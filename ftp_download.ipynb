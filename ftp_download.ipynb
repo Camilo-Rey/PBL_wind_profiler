{
 "cells": [
  {
   "cell_type": "code",
   "execution_count": 1,
   "metadata": {},
   "outputs": [],
   "source": [
    "import ftplib\n",
    "import io\n",
    "import os\n",
    "import time\n",
    "\n",
    "ftp = ftplib.FTP(\"ftp1.esrl.noaa.gov\")\n",
    "ftp.login()\n",
    "\n",
    "base = '/psd2/data/realtime//Radar915/WwWind/tci/'"
   ]
  },
  {
   "cell_type": "code",
   "execution_count": 2,
   "metadata": {},
   "outputs": [],
   "source": [
    "\n",
    "def download(folder):\n",
    "    \n",
    "    files = os.listdir(folder[len(base)::])\n",
    "    for file in ftp.nlst(folder):\n",
    "        if file not in files:\n",
    "\n",
    "            r = io.BytesIO()\n",
    "            ftp.retrbinary('RETR ' + file , r.write)\n",
    "            data = r.getvalue()\n",
    "\n",
    "            path = os.path.join(os.getcwd(),folder[len(base)::])\n",
    "\n",
    "            file_name = file[len(folder)+1::]\n",
    "            with open(os.path.join(path,file_name),'wb') as f:\n",
    "                f.write(data)\n",
    "\n",
    "            r.close()\n",
    "        else:\n",
    "            pass\n",
    "\n",
    "\n",
    "\n",
    "# def download(folder):\n",
    "    \n",
    "#     for file in ftp.nlst(folder):\n",
    "#         r = io.BytesIO()\n",
    "#         ftp.retrbinary('RETR ' + file , r.write)\n",
    "#         data = r.getvalue()\n",
    "\n",
    "#         path = os.path.join(os.getcwd(),folder[len(base)::])\n",
    "\n",
    "#         file_name = file[len(folder)+1::]\n",
    "#         with open(os.path.join(path,file_name),'wb') as f:\n",
    "#             f.write(data)\n",
    "\n",
    "#         r.close()\n"
   ]
  },
  {
   "cell_type": "code",
   "execution_count": 3,
   "metadata": {},
   "outputs": [
    {
     "name": "stdout",
     "output_type": "stream",
     "text": [
      "Time to download from scratch (2017): 2914.177175283432\n"
     ]
    }
   ],
   "source": [
    "\n",
    "# # For all years\n",
    "# for path in ftp.nlst(base):\n",
    "#     for path0 in ftp.nlst(path):\n",
    "#         try:\n",
    "#             os.makedirs(path0[len(base)::])\n",
    "#         except FileExistsError:\n",
    "#             pass\n",
    "#         download(path0)\n",
    "\n",
    "\n",
    "t_init = time.time()\n",
    "\n",
    "year = 2018\n",
    "path = os.path.join(base,str(year))\n",
    "\n",
    "for path0 in ftp.nlst(path):\n",
    "    try:\n",
    "        os.makedirs(path0[len(base)::])\n",
    "    except FileExistsError:\n",
    "        pass\n",
    "#     print(os.listdir(path0[len(base)::]))\n",
    "#     print(path0)\n",
    "    download(path0)\n",
    "\n",
    "t_final = time.time()\n",
    "print(f'Time to download from scratch (2017): {t_final-t_init}')"
   ]
  },
  {
   "cell_type": "code",
   "execution_count": 4,
   "metadata": {},
   "outputs": [
    {
     "name": "stdout",
     "output_type": "stream",
     "text": [
      "Time without skipping already downloaded files (2017): 1230.101798772812\n"
     ]
    }
   ],
   "source": [
    "\n",
    "# # For all years\n",
    "# for path in ftp.nlst(base):\n",
    "#     for path0 in ftp.nlst(path):\n",
    "#         try:\n",
    "#             os.makedirs(path0[len(base)::])\n",
    "#         except FileExistsError:\n",
    "#             pass\n",
    "#         download(path0)\n",
    "\n",
    "\n",
    "t_init = time.time()\n",
    "\n",
    "year = 2017\n",
    "path = os.path.join(base,str(year))\n",
    "\n",
    "for path0 in ftp.nlst(path):\n",
    "    try:\n",
    "        os.makedirs(path0[len(base)::])\n",
    "    except FileExistsError:\n",
    "        pass\n",
    "#     print(os.listdir(path0[len(base)::]))\n",
    "#     print(path0)\n",
    "    download(path0)\n",
    "\n",
    "t_final = time.time()\n",
    "print(f'Time without skipping already downloaded files (2017): {t_final-t_init}')"
   ]
  },
  {
   "cell_type": "code",
   "execution_count": 9,
   "metadata": {},
   "outputs": [
    {
     "name": "stdout",
     "output_type": "stream",
     "text": [
      "Time with skipping already downloaded files (2017): 883.3924422264099\n"
     ]
    }
   ],
   "source": [
    "\n",
    "# # For all years\n",
    "# for path in ftp.nlst(base):\n",
    "#     for path0 in ftp.nlst(path):\n",
    "#         try:\n",
    "#             os.makedirs(path0[len(base)::])\n",
    "#         except FileExistsError:\n",
    "#             pass\n",
    "#         download(path0)\n",
    "\n",
    "\n",
    "t_init = time.time()\n",
    "\n",
    "year = 2017\n",
    "path = os.path.join(base,str(year))\n",
    "\n",
    "for path0 in ftp.nlst(path):\n",
    "    try:\n",
    "        os.makedirs(path0[len(base)::])\n",
    "    except FileExistsError:\n",
    "        pass\n",
    "#     print(os.listdir(path0[len(base)::]))\n",
    "#     print(path0)\n",
    "    download(path0)\n",
    "\n",
    "t_final = time.time()\n",
    "print(f'Time with skipping already downloaded files (2017): {t_final-t_init}')"
   ]
  },
  {
   "cell_type": "code",
   "execution_count": null,
   "metadata": {},
   "outputs": [],
   "source": []
  }
 ],
 "metadata": {
  "kernelspec": {
   "display_name": "Python 3",
   "language": "python",
   "name": "python3"
  },
  "language_info": {
   "codemirror_mode": {
    "name": "ipython",
    "version": 3
   },
   "file_extension": ".py",
   "mimetype": "text/x-python",
   "name": "python",
   "nbconvert_exporter": "python",
   "pygments_lexer": "ipython3",
   "version": "3.7.4"
  }
 },
 "nbformat": 4,
 "nbformat_minor": 2
}
